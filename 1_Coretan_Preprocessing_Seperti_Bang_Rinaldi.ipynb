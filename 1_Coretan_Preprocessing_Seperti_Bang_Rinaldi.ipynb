{
  "nbformat": 4,
  "nbformat_minor": 0,
  "metadata": {
    "colab": {
      "name": "1_Coretan_Preprocessing Seperti Bang Rinaldi.ipynb",
      "provenance": [],
      "collapsed_sections": [
        "Fe3a-OQcm9sE",
        "GsZjJCR2qFH2",
        "NB35g0ZcnC7o",
        "C1GPmg5KnSDO",
        "cInG9bhLnduC",
        "Ocs18OxLnpO6",
        "kx4pofKOnyxO",
        "4kX1EYuOn-rr",
        "QzceKBO-o9Ax",
        "HiFRbic5oxJm"
      ],
      "include_colab_link": true
    },
    "kernelspec": {
      "name": "python3",
      "display_name": "Python 3"
    },
    "language_info": {
      "name": "python"
    }
  },
  "cells": [
    {
      "cell_type": "markdown",
      "metadata": {
        "id": "view-in-github",
        "colab_type": "text"
      },
      "source": [
        "<a href=\"https://colab.research.google.com/github/rahmiyunidaM2472323/Coursera/blob/main/1_Coretan_Preprocessing_Seperti_Bang_Rinaldi.ipynb\" target=\"_parent\"><img src=\"https://colab.research.google.com/assets/colab-badge.svg\" alt=\"Open In Colab\"/></a>"
      ]
    },
    {
      "cell_type": "markdown",
      "source": [
        "# **Import Library**"
      ],
      "metadata": {
        "id": "Fe3a-OQcm9sE"
      }
    },
    {
      "cell_type": "code",
      "source": [
        "import pandas as pd\n",
        "import os\n",
        "os.getcwd()\n",
        "os.listdir(os.getcwd())"
      ],
      "metadata": {
        "colab": {
          "base_uri": "https://localhost:8080/"
        },
        "id": "LUFHfhyZuDo4",
        "outputId": "6f8f164a-7e92-4c01-f133-cb95afe6311f"
      },
      "execution_count": 1,
      "outputs": [
        {
          "output_type": "execute_result",
          "data": {
            "text/plain": [
              "['.config', 'sample_data']"
            ]
          },
          "metadata": {},
          "execution_count": 1
        }
      ]
    },
    {
      "cell_type": "markdown",
      "source": [
        "**import pandas as pd:** https://medium.com/@16611092/mengenal-pandas-dalam-python-cc66d0c5ea40\n",
        "https://colab.research.google.com/notebooks/mlcc/intro_to_pandas.ipynb?hl=id\n",
        "https://ngodingdata.com/python-pandas-dataframe/\n",
        "\n",
        "**import os:** \n",
        "\n",
        "\n",
        "\n"
      ],
      "metadata": {
        "id": "Hyt9i78rTyYi"
      }
    },
    {
      "cell_type": "markdown",
      "source": [
        "# **Memuat Data dari Google Drive**"
      ],
      "metadata": {
        "id": "GsZjJCR2qFH2"
      }
    },
    {
      "cell_type": "markdown",
      "source": [
        "**Mounting Google Drive**"
      ],
      "metadata": {
        "id": "9XBZHfvOyC3K"
      }
    },
    {
      "cell_type": "code",
      "source": [
        "#from google.colab import drive\n",
        "#drive.mount('/content/drive')"
      ],
      "metadata": {
        "id": "OU3kFhEnqMBf"
      },
      "execution_count": 2,
      "outputs": []
    },
    {
      "cell_type": "markdown",
      "source": [
        "**Membaca File**"
      ],
      "metadata": {
        "id": "Ec0ASMVWyGiC"
      }
    },
    {
      "cell_type": "code",
      "source": [
        "#dataset = pd.read_excel('/content/drive/My Drive/SKRIPSI/0_Data/0_floods/floods_eyewitness_crowdflower_1653.xlsx', header=0)\n",
        "#dataset"
      ],
      "metadata": {
        "colab": {
          "base_uri": "https://localhost:8080/",
          "height": 1000
        },
        "id": "1eJOkeFBx7_U",
        "outputId": "f61154bc-2319-4667-8319-af7e614f2c20"
      },
      "execution_count": null,
      "outputs": [
        {
          "output_type": "execute_result",
          "data": {
            "text/plain": [
              "        _unit_id  _golden _unit_state  _trusted_judgments   _last_judgment_at  \\\n",
              "0     1847304628    False   finalized                   3 2018-05-08 22:21:00   \n",
              "1     1847305169    False   finalized                   3 2018-05-08 02:21:00   \n",
              "2     1847306041    False   finalized                   3 2018-06-08 09:08:00   \n",
              "3     1847305020    False   finalized                   3 2018-06-08 02:27:00   \n",
              "4     1847304613    False   finalized                   3 2018-05-08 20:24:00   \n",
              "...          ...      ...         ...                 ...                 ...   \n",
              "1648  1847305649    False   finalized                   4 2018-06-08 02:41:00   \n",
              "1649  1847305246    False   finalized                   3 2018-05-08 23:13:00   \n",
              "1650  1847305528    False   finalized                   3 2018-05-08 03:54:00   \n",
              "1651  1847305030    False   finalized                   4 2018-05-08 17:23:00   \n",
              "1652  1847304950    False   finalized                   3 2018-05-08 22:57:00   \n",
              "\n",
              "     please_choose_a_category:confidence                      created_at  \\\n",
              "0                                      1  Thu Jul 05 20:50:28 +0000 2018   \n",
              "1                               4.490278  Thu Jul 19 17:10:31 +0000 2018   \n",
              "2                               0.452083  Mon Jul 04 16:41:38 +0000 2016   \n",
              "3                                      1  Fri Jul 06 07:01:45 +0000 2018   \n",
              "4                                      1  Thu Jul 05 17:42:45 +0000 2018   \n",
              "...                                  ...                             ...   \n",
              "1648                            5.031944  Thu Jun 21 19:58:11 +0000 2018   \n",
              "1649                            4.705556  Thu Jul 19 19:55:05 +0000 2018   \n",
              "1650                            4.492361  Thu Jun 21 22:48:45 +0000 2018   \n",
              "1651                            5.274306  Fri Jul 06 11:36:31 +0000 2018   \n",
              "1652                                   1  Fri Jul 06 11:05:55 +0000 2018   \n",
              "\n",
              "                     id_str  rownames           category  \\\n",
              "0     ,1014974815764037632,     94671  direct_eyewitness   \n",
              "1     ,1019992896550985728,     27005  direct_eyewitness   \n",
              "2      ,750006667492855808,     26899  direct_eyewitness   \n",
              "3     ,1015128653485826048,     36719  direct_eyewitness   \n",
              "4     ,1014927577105010690,     76853  direct_eyewitness   \n",
              "...                     ...       ...                ...   \n",
              "1648  ,1009888228214804482,     11183  direct_eyewitness   \n",
              "1649  ,1020034309011341312,     59722  direct_eyewitness   \n",
              "1650  ,1009931156542906368,     28372  direct_eyewitness   \n",
              "1651  ,1015197799862939649,     53502  direct_eyewitness   \n",
              "1652  ,1015190099028570112,     51082  direct_eyewitness   \n",
              "\n",
              "                                                   text  \n",
              "0     My state, everybody. Drought, fire, flood, hai...  \n",
              "1     Somebody please shoot me!   I have been breaki...  \n",
              "2     It's fine. It's all fucking fine. I'm just a d...  \n",
              "3     Every years we face lots of losses of crop and...  \n",
              "4     insurance in this country is a scam. just got ...  \n",
              "...                                                 ...  \n",
              "1648  i live right by the dsm river and it's gonna c...  \n",
              "1649  The National Weather Service issued a flood wa...  \n",
              "1650  MrJDScott It s 74 Â°, rainy with flood warning...  \n",
              "1651  I've never been more excited for a flash flood...  \n",
              "1652  Accurate depiction of me when my phone alerted...  \n",
              "\n",
              "[1653 rows x 11 columns]"
            ],
            "text/html": [
              "\n",
              "  <div id=\"df-2614f18a-9842-4cad-a0b2-7d6574ce5edd\">\n",
              "    <div class=\"colab-df-container\">\n",
              "      <div>\n",
              "<style scoped>\n",
              "    .dataframe tbody tr th:only-of-type {\n",
              "        vertical-align: middle;\n",
              "    }\n",
              "\n",
              "    .dataframe tbody tr th {\n",
              "        vertical-align: top;\n",
              "    }\n",
              "\n",
              "    .dataframe thead th {\n",
              "        text-align: right;\n",
              "    }\n",
              "</style>\n",
              "<table border=\"1\" class=\"dataframe\">\n",
              "  <thead>\n",
              "    <tr style=\"text-align: right;\">\n",
              "      <th></th>\n",
              "      <th>_unit_id</th>\n",
              "      <th>_golden</th>\n",
              "      <th>_unit_state</th>\n",
              "      <th>_trusted_judgments</th>\n",
              "      <th>_last_judgment_at</th>\n",
              "      <th>please_choose_a_category:confidence</th>\n",
              "      <th>created_at</th>\n",
              "      <th>id_str</th>\n",
              "      <th>rownames</th>\n",
              "      <th>category</th>\n",
              "      <th>text</th>\n",
              "    </tr>\n",
              "  </thead>\n",
              "  <tbody>\n",
              "    <tr>\n",
              "      <th>0</th>\n",
              "      <td>1847304628</td>\n",
              "      <td>False</td>\n",
              "      <td>finalized</td>\n",
              "      <td>3</td>\n",
              "      <td>2018-05-08 22:21:00</td>\n",
              "      <td>1</td>\n",
              "      <td>Thu Jul 05 20:50:28 +0000 2018</td>\n",
              "      <td>,1014974815764037632,</td>\n",
              "      <td>94671</td>\n",
              "      <td>direct_eyewitness</td>\n",
              "      <td>My state, everybody. Drought, fire, flood, hai...</td>\n",
              "    </tr>\n",
              "    <tr>\n",
              "      <th>1</th>\n",
              "      <td>1847305169</td>\n",
              "      <td>False</td>\n",
              "      <td>finalized</td>\n",
              "      <td>3</td>\n",
              "      <td>2018-05-08 02:21:00</td>\n",
              "      <td>4.490278</td>\n",
              "      <td>Thu Jul 19 17:10:31 +0000 2018</td>\n",
              "      <td>,1019992896550985728,</td>\n",
              "      <td>27005</td>\n",
              "      <td>direct_eyewitness</td>\n",
              "      <td>Somebody please shoot me!   I have been breaki...</td>\n",
              "    </tr>\n",
              "    <tr>\n",
              "      <th>2</th>\n",
              "      <td>1847306041</td>\n",
              "      <td>False</td>\n",
              "      <td>finalized</td>\n",
              "      <td>3</td>\n",
              "      <td>2018-06-08 09:08:00</td>\n",
              "      <td>0.452083</td>\n",
              "      <td>Mon Jul 04 16:41:38 +0000 2016</td>\n",
              "      <td>,750006667492855808,</td>\n",
              "      <td>26899</td>\n",
              "      <td>direct_eyewitness</td>\n",
              "      <td>It's fine. It's all fucking fine. I'm just a d...</td>\n",
              "    </tr>\n",
              "    <tr>\n",
              "      <th>3</th>\n",
              "      <td>1847305020</td>\n",
              "      <td>False</td>\n",
              "      <td>finalized</td>\n",
              "      <td>3</td>\n",
              "      <td>2018-06-08 02:27:00</td>\n",
              "      <td>1</td>\n",
              "      <td>Fri Jul 06 07:01:45 +0000 2018</td>\n",
              "      <td>,1015128653485826048,</td>\n",
              "      <td>36719</td>\n",
              "      <td>direct_eyewitness</td>\n",
              "      <td>Every years we face lots of losses of crop and...</td>\n",
              "    </tr>\n",
              "    <tr>\n",
              "      <th>4</th>\n",
              "      <td>1847304613</td>\n",
              "      <td>False</td>\n",
              "      <td>finalized</td>\n",
              "      <td>3</td>\n",
              "      <td>2018-05-08 20:24:00</td>\n",
              "      <td>1</td>\n",
              "      <td>Thu Jul 05 17:42:45 +0000 2018</td>\n",
              "      <td>,1014927577105010690,</td>\n",
              "      <td>76853</td>\n",
              "      <td>direct_eyewitness</td>\n",
              "      <td>insurance in this country is a scam. just got ...</td>\n",
              "    </tr>\n",
              "    <tr>\n",
              "      <th>...</th>\n",
              "      <td>...</td>\n",
              "      <td>...</td>\n",
              "      <td>...</td>\n",
              "      <td>...</td>\n",
              "      <td>...</td>\n",
              "      <td>...</td>\n",
              "      <td>...</td>\n",
              "      <td>...</td>\n",
              "      <td>...</td>\n",
              "      <td>...</td>\n",
              "      <td>...</td>\n",
              "    </tr>\n",
              "    <tr>\n",
              "      <th>1648</th>\n",
              "      <td>1847305649</td>\n",
              "      <td>False</td>\n",
              "      <td>finalized</td>\n",
              "      <td>4</td>\n",
              "      <td>2018-06-08 02:41:00</td>\n",
              "      <td>5.031944</td>\n",
              "      <td>Thu Jun 21 19:58:11 +0000 2018</td>\n",
              "      <td>,1009888228214804482,</td>\n",
              "      <td>11183</td>\n",
              "      <td>direct_eyewitness</td>\n",
              "      <td>i live right by the dsm river and it's gonna c...</td>\n",
              "    </tr>\n",
              "    <tr>\n",
              "      <th>1649</th>\n",
              "      <td>1847305246</td>\n",
              "      <td>False</td>\n",
              "      <td>finalized</td>\n",
              "      <td>3</td>\n",
              "      <td>2018-05-08 23:13:00</td>\n",
              "      <td>4.705556</td>\n",
              "      <td>Thu Jul 19 19:55:05 +0000 2018</td>\n",
              "      <td>,1020034309011341312,</td>\n",
              "      <td>59722</td>\n",
              "      <td>direct_eyewitness</td>\n",
              "      <td>The National Weather Service issued a flood wa...</td>\n",
              "    </tr>\n",
              "    <tr>\n",
              "      <th>1650</th>\n",
              "      <td>1847305528</td>\n",
              "      <td>False</td>\n",
              "      <td>finalized</td>\n",
              "      <td>3</td>\n",
              "      <td>2018-05-08 03:54:00</td>\n",
              "      <td>4.492361</td>\n",
              "      <td>Thu Jun 21 22:48:45 +0000 2018</td>\n",
              "      <td>,1009931156542906368,</td>\n",
              "      <td>28372</td>\n",
              "      <td>direct_eyewitness</td>\n",
              "      <td>MrJDScott It s 74 Â°, rainy with flood warning...</td>\n",
              "    </tr>\n",
              "    <tr>\n",
              "      <th>1651</th>\n",
              "      <td>1847305030</td>\n",
              "      <td>False</td>\n",
              "      <td>finalized</td>\n",
              "      <td>4</td>\n",
              "      <td>2018-05-08 17:23:00</td>\n",
              "      <td>5.274306</td>\n",
              "      <td>Fri Jul 06 11:36:31 +0000 2018</td>\n",
              "      <td>,1015197799862939649,</td>\n",
              "      <td>53502</td>\n",
              "      <td>direct_eyewitness</td>\n",
              "      <td>I've never been more excited for a flash flood...</td>\n",
              "    </tr>\n",
              "    <tr>\n",
              "      <th>1652</th>\n",
              "      <td>1847304950</td>\n",
              "      <td>False</td>\n",
              "      <td>finalized</td>\n",
              "      <td>3</td>\n",
              "      <td>2018-05-08 22:57:00</td>\n",
              "      <td>1</td>\n",
              "      <td>Fri Jul 06 11:05:55 +0000 2018</td>\n",
              "      <td>,1015190099028570112,</td>\n",
              "      <td>51082</td>\n",
              "      <td>direct_eyewitness</td>\n",
              "      <td>Accurate depiction of me when my phone alerted...</td>\n",
              "    </tr>\n",
              "  </tbody>\n",
              "</table>\n",
              "<p>1653 rows × 11 columns</p>\n",
              "</div>\n",
              "      <button class=\"colab-df-convert\" onclick=\"convertToInteractive('df-2614f18a-9842-4cad-a0b2-7d6574ce5edd')\"\n",
              "              title=\"Convert this dataframe to an interactive table.\"\n",
              "              style=\"display:none;\">\n",
              "        \n",
              "  <svg xmlns=\"http://www.w3.org/2000/svg\" height=\"24px\"viewBox=\"0 0 24 24\"\n",
              "       width=\"24px\">\n",
              "    <path d=\"M0 0h24v24H0V0z\" fill=\"none\"/>\n",
              "    <path d=\"M18.56 5.44l.94 2.06.94-2.06 2.06-.94-2.06-.94-.94-2.06-.94 2.06-2.06.94zm-11 1L8.5 8.5l.94-2.06 2.06-.94-2.06-.94L8.5 2.5l-.94 2.06-2.06.94zm10 10l.94 2.06.94-2.06 2.06-.94-2.06-.94-.94-2.06-.94 2.06-2.06.94z\"/><path d=\"M17.41 7.96l-1.37-1.37c-.4-.4-.92-.59-1.43-.59-.52 0-1.04.2-1.43.59L10.3 9.45l-7.72 7.72c-.78.78-.78 2.05 0 2.83L4 21.41c.39.39.9.59 1.41.59.51 0 1.02-.2 1.41-.59l7.78-7.78 2.81-2.81c.8-.78.8-2.07 0-2.86zM5.41 20L4 18.59l7.72-7.72 1.47 1.35L5.41 20z\"/>\n",
              "  </svg>\n",
              "      </button>\n",
              "      \n",
              "  <style>\n",
              "    .colab-df-container {\n",
              "      display:flex;\n",
              "      flex-wrap:wrap;\n",
              "      gap: 12px;\n",
              "    }\n",
              "\n",
              "    .colab-df-convert {\n",
              "      background-color: #E8F0FE;\n",
              "      border: none;\n",
              "      border-radius: 50%;\n",
              "      cursor: pointer;\n",
              "      display: none;\n",
              "      fill: #1967D2;\n",
              "      height: 32px;\n",
              "      padding: 0 0 0 0;\n",
              "      width: 32px;\n",
              "    }\n",
              "\n",
              "    .colab-df-convert:hover {\n",
              "      background-color: #E2EBFA;\n",
              "      box-shadow: 0px 1px 2px rgba(60, 64, 67, 0.3), 0px 1px 3px 1px rgba(60, 64, 67, 0.15);\n",
              "      fill: #174EA6;\n",
              "    }\n",
              "\n",
              "    [theme=dark] .colab-df-convert {\n",
              "      background-color: #3B4455;\n",
              "      fill: #D2E3FC;\n",
              "    }\n",
              "\n",
              "    [theme=dark] .colab-df-convert:hover {\n",
              "      background-color: #434B5C;\n",
              "      box-shadow: 0px 1px 3px 1px rgba(0, 0, 0, 0.15);\n",
              "      filter: drop-shadow(0px 1px 2px rgba(0, 0, 0, 0.3));\n",
              "      fill: #FFFFFF;\n",
              "    }\n",
              "  </style>\n",
              "\n",
              "      <script>\n",
              "        const buttonEl =\n",
              "          document.querySelector('#df-2614f18a-9842-4cad-a0b2-7d6574ce5edd button.colab-df-convert');\n",
              "        buttonEl.style.display =\n",
              "          google.colab.kernel.accessAllowed ? 'block' : 'none';\n",
              "\n",
              "        async function convertToInteractive(key) {\n",
              "          const element = document.querySelector('#df-2614f18a-9842-4cad-a0b2-7d6574ce5edd');\n",
              "          const dataTable =\n",
              "            await google.colab.kernel.invokeFunction('convertToInteractive',\n",
              "                                                     [key], {});\n",
              "          if (!dataTable) return;\n",
              "\n",
              "          const docLinkHtml = 'Like what you see? Visit the ' +\n",
              "            '<a target=\"_blank\" href=https://colab.research.google.com/notebooks/data_table.ipynb>data table notebook</a>'\n",
              "            + ' to learn more about interactive tables.';\n",
              "          element.innerHTML = '';\n",
              "          dataTable['output_type'] = 'display_data';\n",
              "          await google.colab.output.renderOutput(dataTable, element);\n",
              "          const docLink = document.createElement('div');\n",
              "          docLink.innerHTML = docLinkHtml;\n",
              "          element.appendChild(docLink);\n",
              "        }\n",
              "      </script>\n",
              "    </div>\n",
              "  </div>\n",
              "  "
            ]
          },
          "metadata": {},
          "execution_count": 38
        }
      ]
    },
    {
      "cell_type": "markdown",
      "source": [
        "# **Memuat Data yang Telah di Upload ke \"sample_data\"**"
      ],
      "metadata": {
        "id": "NB35g0ZcnC7o"
      }
    },
    {
      "cell_type": "code",
      "source": [
        "#memuat dataset klasifikasi dalam format .xlsx\n",
        "df = pd.read_excel(\"sample_data/floods_eyewitness_crowdflower_1653.xlsx\", header=0)\n",
        "df.head()"
      ],
      "metadata": {
        "colab": {
          "base_uri": "https://localhost:8080/",
          "height": 652
        },
        "id": "fEGgpOBauUxH",
        "outputId": "1e0e17f4-27fa-4598-d10d-310640caa5f8"
      },
      "execution_count": 5,
      "outputs": [
        {
          "output_type": "execute_result",
          "data": {
            "text/plain": [
              "     _unit_id  _golden _unit_state  _trusted_judgments   _last_judgment_at  \\\n",
              "0  1847304628    False   finalized                   3 2018-05-08 22:21:00   \n",
              "1  1847305169    False   finalized                   3 2018-05-08 02:21:00   \n",
              "2  1847306041    False   finalized                   3 2018-06-08 09:08:00   \n",
              "3  1847305020    False   finalized                   3 2018-06-08 02:27:00   \n",
              "4  1847304613    False   finalized                   3 2018-05-08 20:24:00   \n",
              "\n",
              "  please_choose_a_category:confidence                      created_at  \\\n",
              "0                                   1  Thu Jul 05 20:50:28 +0000 2018   \n",
              "1                            4.490278  Thu Jul 19 17:10:31 +0000 2018   \n",
              "2                            0.452083  Mon Jul 04 16:41:38 +0000 2016   \n",
              "3                                   1  Fri Jul 06 07:01:45 +0000 2018   \n",
              "4                                   1  Thu Jul 05 17:42:45 +0000 2018   \n",
              "\n",
              "                  id_str  rownames           category  \\\n",
              "0  ,1014974815764037632,     94671  direct_eyewitness   \n",
              "1  ,1019992896550985728,     27005  direct_eyewitness   \n",
              "2   ,750006667492855808,     26899  direct_eyewitness   \n",
              "3  ,1015128653485826048,     36719  direct_eyewitness   \n",
              "4  ,1014927577105010690,     76853  direct_eyewitness   \n",
              "\n",
              "                                                text  \n",
              "0  My state, everybody. Drought, fire, flood, hai...  \n",
              "1  Somebody please shoot me!   I have been breaki...  \n",
              "2  It's fine. It's all fucking fine. I'm just a d...  \n",
              "3  Every years we face lots of losses of crop and...  \n",
              "4  insurance in this country is a scam. just got ...  "
            ],
            "text/html": [
              "\n",
              "  <div id=\"df-f1ec9504-2864-4cbc-a271-a5add23be3e1\">\n",
              "    <div class=\"colab-df-container\">\n",
              "      <div>\n",
              "<style scoped>\n",
              "    .dataframe tbody tr th:only-of-type {\n",
              "        vertical-align: middle;\n",
              "    }\n",
              "\n",
              "    .dataframe tbody tr th {\n",
              "        vertical-align: top;\n",
              "    }\n",
              "\n",
              "    .dataframe thead th {\n",
              "        text-align: right;\n",
              "    }\n",
              "</style>\n",
              "<table border=\"1\" class=\"dataframe\">\n",
              "  <thead>\n",
              "    <tr style=\"text-align: right;\">\n",
              "      <th></th>\n",
              "      <th>_unit_id</th>\n",
              "      <th>_golden</th>\n",
              "      <th>_unit_state</th>\n",
              "      <th>_trusted_judgments</th>\n",
              "      <th>_last_judgment_at</th>\n",
              "      <th>please_choose_a_category:confidence</th>\n",
              "      <th>created_at</th>\n",
              "      <th>id_str</th>\n",
              "      <th>rownames</th>\n",
              "      <th>category</th>\n",
              "      <th>text</th>\n",
              "    </tr>\n",
              "  </thead>\n",
              "  <tbody>\n",
              "    <tr>\n",
              "      <th>0</th>\n",
              "      <td>1847304628</td>\n",
              "      <td>False</td>\n",
              "      <td>finalized</td>\n",
              "      <td>3</td>\n",
              "      <td>2018-05-08 22:21:00</td>\n",
              "      <td>1</td>\n",
              "      <td>Thu Jul 05 20:50:28 +0000 2018</td>\n",
              "      <td>,1014974815764037632,</td>\n",
              "      <td>94671</td>\n",
              "      <td>direct_eyewitness</td>\n",
              "      <td>My state, everybody. Drought, fire, flood, hai...</td>\n",
              "    </tr>\n",
              "    <tr>\n",
              "      <th>1</th>\n",
              "      <td>1847305169</td>\n",
              "      <td>False</td>\n",
              "      <td>finalized</td>\n",
              "      <td>3</td>\n",
              "      <td>2018-05-08 02:21:00</td>\n",
              "      <td>4.490278</td>\n",
              "      <td>Thu Jul 19 17:10:31 +0000 2018</td>\n",
              "      <td>,1019992896550985728,</td>\n",
              "      <td>27005</td>\n",
              "      <td>direct_eyewitness</td>\n",
              "      <td>Somebody please shoot me!   I have been breaki...</td>\n",
              "    </tr>\n",
              "    <tr>\n",
              "      <th>2</th>\n",
              "      <td>1847306041</td>\n",
              "      <td>False</td>\n",
              "      <td>finalized</td>\n",
              "      <td>3</td>\n",
              "      <td>2018-06-08 09:08:00</td>\n",
              "      <td>0.452083</td>\n",
              "      <td>Mon Jul 04 16:41:38 +0000 2016</td>\n",
              "      <td>,750006667492855808,</td>\n",
              "      <td>26899</td>\n",
              "      <td>direct_eyewitness</td>\n",
              "      <td>It's fine. It's all fucking fine. I'm just a d...</td>\n",
              "    </tr>\n",
              "    <tr>\n",
              "      <th>3</th>\n",
              "      <td>1847305020</td>\n",
              "      <td>False</td>\n",
              "      <td>finalized</td>\n",
              "      <td>3</td>\n",
              "      <td>2018-06-08 02:27:00</td>\n",
              "      <td>1</td>\n",
              "      <td>Fri Jul 06 07:01:45 +0000 2018</td>\n",
              "      <td>,1015128653485826048,</td>\n",
              "      <td>36719</td>\n",
              "      <td>direct_eyewitness</td>\n",
              "      <td>Every years we face lots of losses of crop and...</td>\n",
              "    </tr>\n",
              "    <tr>\n",
              "      <th>4</th>\n",
              "      <td>1847304613</td>\n",
              "      <td>False</td>\n",
              "      <td>finalized</td>\n",
              "      <td>3</td>\n",
              "      <td>2018-05-08 20:24:00</td>\n",
              "      <td>1</td>\n",
              "      <td>Thu Jul 05 17:42:45 +0000 2018</td>\n",
              "      <td>,1014927577105010690,</td>\n",
              "      <td>76853</td>\n",
              "      <td>direct_eyewitness</td>\n",
              "      <td>insurance in this country is a scam. just got ...</td>\n",
              "    </tr>\n",
              "  </tbody>\n",
              "</table>\n",
              "</div>\n",
              "      <button class=\"colab-df-convert\" onclick=\"convertToInteractive('df-f1ec9504-2864-4cbc-a271-a5add23be3e1')\"\n",
              "              title=\"Convert this dataframe to an interactive table.\"\n",
              "              style=\"display:none;\">\n",
              "        \n",
              "  <svg xmlns=\"http://www.w3.org/2000/svg\" height=\"24px\"viewBox=\"0 0 24 24\"\n",
              "       width=\"24px\">\n",
              "    <path d=\"M0 0h24v24H0V0z\" fill=\"none\"/>\n",
              "    <path d=\"M18.56 5.44l.94 2.06.94-2.06 2.06-.94-2.06-.94-.94-2.06-.94 2.06-2.06.94zm-11 1L8.5 8.5l.94-2.06 2.06-.94-2.06-.94L8.5 2.5l-.94 2.06-2.06.94zm10 10l.94 2.06.94-2.06 2.06-.94-2.06-.94-.94-2.06-.94 2.06-2.06.94z\"/><path d=\"M17.41 7.96l-1.37-1.37c-.4-.4-.92-.59-1.43-.59-.52 0-1.04.2-1.43.59L10.3 9.45l-7.72 7.72c-.78.78-.78 2.05 0 2.83L4 21.41c.39.39.9.59 1.41.59.51 0 1.02-.2 1.41-.59l7.78-7.78 2.81-2.81c.8-.78.8-2.07 0-2.86zM5.41 20L4 18.59l7.72-7.72 1.47 1.35L5.41 20z\"/>\n",
              "  </svg>\n",
              "      </button>\n",
              "      \n",
              "  <style>\n",
              "    .colab-df-container {\n",
              "      display:flex;\n",
              "      flex-wrap:wrap;\n",
              "      gap: 12px;\n",
              "    }\n",
              "\n",
              "    .colab-df-convert {\n",
              "      background-color: #E8F0FE;\n",
              "      border: none;\n",
              "      border-radius: 50%;\n",
              "      cursor: pointer;\n",
              "      display: none;\n",
              "      fill: #1967D2;\n",
              "      height: 32px;\n",
              "      padding: 0 0 0 0;\n",
              "      width: 32px;\n",
              "    }\n",
              "\n",
              "    .colab-df-convert:hover {\n",
              "      background-color: #E2EBFA;\n",
              "      box-shadow: 0px 1px 2px rgba(60, 64, 67, 0.3), 0px 1px 3px 1px rgba(60, 64, 67, 0.15);\n",
              "      fill: #174EA6;\n",
              "    }\n",
              "\n",
              "    [theme=dark] .colab-df-convert {\n",
              "      background-color: #3B4455;\n",
              "      fill: #D2E3FC;\n",
              "    }\n",
              "\n",
              "    [theme=dark] .colab-df-convert:hover {\n",
              "      background-color: #434B5C;\n",
              "      box-shadow: 0px 1px 3px 1px rgba(0, 0, 0, 0.15);\n",
              "      filter: drop-shadow(0px 1px 2px rgba(0, 0, 0, 0.3));\n",
              "      fill: #FFFFFF;\n",
              "    }\n",
              "  </style>\n",
              "\n",
              "      <script>\n",
              "        const buttonEl =\n",
              "          document.querySelector('#df-f1ec9504-2864-4cbc-a271-a5add23be3e1 button.colab-df-convert');\n",
              "        buttonEl.style.display =\n",
              "          google.colab.kernel.accessAllowed ? 'block' : 'none';\n",
              "\n",
              "        async function convertToInteractive(key) {\n",
              "          const element = document.querySelector('#df-f1ec9504-2864-4cbc-a271-a5add23be3e1');\n",
              "          const dataTable =\n",
              "            await google.colab.kernel.invokeFunction('convertToInteractive',\n",
              "                                                     [key], {});\n",
              "          if (!dataTable) return;\n",
              "\n",
              "          const docLinkHtml = 'Like what you see? Visit the ' +\n",
              "            '<a target=\"_blank\" href=https://colab.research.google.com/notebooks/data_table.ipynb>data table notebook</a>'\n",
              "            + ' to learn more about interactive tables.';\n",
              "          element.innerHTML = '';\n",
              "          dataTable['output_type'] = 'display_data';\n",
              "          await google.colab.output.renderOutput(dataTable, element);\n",
              "          const docLink = document.createElement('div');\n",
              "          docLink.innerHTML = docLinkHtml;\n",
              "          element.appendChild(docLink);\n",
              "        }\n",
              "      </script>\n",
              "    </div>\n",
              "  </div>\n",
              "  "
            ]
          },
          "metadata": {},
          "execution_count": 5
        }
      ]
    },
    {
      "cell_type": "markdown",
      "source": [
        "# **Removing**"
      ],
      "metadata": {
        "id": "C1GPmg5KnSDO"
      }
    },
    {
      "cell_type": "code",
      "source": [
        "#fungsi removing field yang tidak dipakai\n",
        "def removing(data):\n",
        "\n",
        "  data.drop(['_unit_id','_golden','_unit_state','_trusted_judgments','_last_judgment_at','please_choose_a_category:confidence','created_at','id_str','rownames'\n",
        "  ],axis=1,inplace=True)\n",
        "  data.head()\n",
        "  return data\n",
        "\n",
        "data = removing(df)"
      ],
      "metadata": {
        "id": "cxWGh9elvjPe"
      },
      "execution_count": 6,
      "outputs": []
    },
    {
      "cell_type": "markdown",
      "source": [
        "# **Cleansing dan Case Folding**"
      ],
      "metadata": {
        "id": "cInG9bhLnduC"
      }
    },
    {
      "cell_type": "code",
      "source": [
        "#fungsi untuk removing karakter dan case folding\n",
        "import re\n",
        "\n",
        "from bs4 import BeautifulSoup\n",
        "from nltk.tokenize import WordPunctTokenizer\n",
        "\n",
        "tok = WordPunctTokenizer()\n",
        "pat1 = r'@[A-za-z0-9_]+' #menghilangkan username\n",
        "pat2 = r'https?://[^ ]+' #menghilangkan situs web\n",
        "www_pat = r'www.[^ ]+' #menghilangkan situs web\n",
        "combined_pat = r'|'.join((pat1, pat2)) #join pat1 & pat2 & wwwpat\n",
        "\n",
        "def tweet_cleaner(text) :\n",
        "  #removing\n",
        "  soup = BeautifulSoup(text, 'html.parser')\n",
        "  souped = soup.get_text()\n",
        "  stripped = re.sub(combined_pat, '', souped)\n",
        "  try:\n",
        "    clean = stripped.decode(\"utf-8-sig\").replace(u\"\\ufffd\", \"?\")\n",
        "  except:\n",
        "    clean = stripped\n",
        "\n",
        "  letters_only = re.sub('[^a-zA-Z]',' ', clean)\n",
        "  #case folding\n",
        "  lower_case = letters_only.lower()\n",
        "\n",
        "  words = tok.tokenize(lower_case)\n",
        "  return (\" \".join(words)).strip()"
      ],
      "metadata": {
        "id": "1QsqXTrk24H6"
      },
      "execution_count": 7,
      "outputs": []
    },
    {
      "cell_type": "markdown",
      "source": [
        "# **Proses Preprocessing Data**"
      ],
      "metadata": {
        "id": "Ocs18OxLnpO6"
      }
    },
    {
      "cell_type": "code",
      "source": [
        "#proses mempreprocessing data\n",
        "nums = [0,1653,551,1102,1653]\n",
        "print (\"Cleaning data tweet...\\n\")\n",
        "\n",
        "clean_tweet_texts = []\n",
        "\n",
        "for i in range(nums[0],nums[1]):\n",
        "  if( (i+1)%551 == 0 ):\n",
        "    print (\"Memproses tweet %d dari %d \" % ( i+1, nums[1] ))\n",
        "  clean_tweet_texts.append(tweet_cleaner(data['text'][i]))"
      ],
      "metadata": {
        "colab": {
          "base_uri": "https://localhost:8080/"
        },
        "id": "2z1rwSTY3oBK",
        "outputId": "ada2db29-f5bf-47c7-e3b7-a2893805d618"
      },
      "execution_count": 8,
      "outputs": [
        {
          "output_type": "stream",
          "name": "stdout",
          "text": [
            "Cleaning data tweet...\n",
            "\n",
            "Memproses tweet 551 dari 1653 \n",
            "Memproses tweet 1102 dari 1653 \n",
            "Memproses tweet 1653 dari 1653 \n"
          ]
        }
      ]
    },
    {
      "cell_type": "markdown",
      "source": [
        "# **Data Setelah Preprocessing**"
      ],
      "metadata": {
        "id": "kx4pofKOnyxO"
      }
    },
    {
      "cell_type": "code",
      "source": [
        "#data setelah di preprocessing\n",
        "clean_data = pd.DataFrame(clean_tweet_texts,columns=['text'])\n",
        "clean_data['category'] = data.category"
      ],
      "metadata": {
        "id": "J0c0RiKy4REZ"
      },
      "execution_count": 9,
      "outputs": []
    },
    {
      "cell_type": "markdown",
      "source": [
        "# **Menghitung Jumlah Kata**"
      ],
      "metadata": {
        "id": "4kX1EYuOn-rr"
      }
    },
    {
      "cell_type": "code",
      "source": [
        "#fungsi untuk menghitung jumlah kata pada data\n",
        "def word_count(value):\n",
        "  list = re.findall(\"\\S+\", value)\n",
        "  return len(list)"
      ],
      "metadata": {
        "id": "lTHYQHjC4u7r"
      },
      "execution_count": 10,
      "outputs": []
    },
    {
      "cell_type": "code",
      "source": [
        "#proses menghitung banyak kata\n",
        "nums = [0,1653,551,1102,1653]\n",
        "print (\"Menghitung banyak kata...\\n\")\n",
        "\n",
        "counting_words = []\n",
        "\n",
        "for i in range(nums[0],nums[1]):\n",
        "  if( (i+1)%551 == 0 ):\n",
        "    print (\"Memproses tweet %d dari %d \" % ( i+1, nums[1] ))\n",
        "  counting_words.append(word_count(clean_data['text'][i]))"
      ],
      "metadata": {
        "colab": {
          "base_uri": "https://localhost:8080/"
        },
        "id": "ucRW1PA642vj",
        "outputId": "b9268eb2-8bd3-4c91-b04c-b24135059caa"
      },
      "execution_count": 11,
      "outputs": [
        {
          "output_type": "stream",
          "name": "stdout",
          "text": [
            "Menghitung banyak kata...\n",
            "\n",
            "Memproses tweet 551 dari 1653 \n",
            "Memproses tweet 1102 dari 1653 \n",
            "Memproses tweet 1653 dari 1653 \n"
          ]
        }
      ]
    },
    {
      "cell_type": "markdown",
      "source": [
        "# **Menyimpan Hasil Penghitungan Kata**"
      ],
      "metadata": {
        "id": "QzceKBO-o9Ax"
      }
    },
    {
      "cell_type": "code",
      "source": [
        "#menyimpan hasil penghitungan kata\n",
        "fix_data = pd.DataFrame(counting_words,columns=['total_words'])\n",
        "fix_data['text'] = clean_data.text\n",
        "fix_data['category'] = clean_data.category"
      ],
      "metadata": {
        "id": "P7Z1D_aP5RZy"
      },
      "execution_count": 12,
      "outputs": []
    },
    {
      "cell_type": "markdown",
      "source": [
        "# **Menyimpan Data Final**"
      ],
      "metadata": {
        "id": "HiFRbic5oxJm"
      }
    },
    {
      "cell_type": "code",
      "source": [
        "#save data\n",
        "final_data = fix_data\n",
        "final_data.to_csv('sample_data/clean_datatweet.csv',index=False)"
      ],
      "metadata": {
        "id": "2FWsJ2Gx5rwC"
      },
      "execution_count": 13,
      "outputs": []
    },
    {
      "cell_type": "code",
      "source": [
        "#save data\n",
        "final_data = fix_data\n",
        "final_data.to_excel('sample_data/clean_datatweet.xlsx',index=False)"
      ],
      "metadata": {
        "id": "6_rMx3fX7sjR"
      },
      "execution_count": 14,
      "outputs": []
    }
  ]
}